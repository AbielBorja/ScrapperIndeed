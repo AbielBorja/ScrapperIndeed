{
 "cells": [
  {
   "cell_type": "code",
   "execution_count": 2,
   "metadata": {},
   "outputs": [],
   "source": [
    "import http.client\n",
    "import json\n",
    "import csv\n",
    "from datetime import datetime\n",
    "import html\n",
    "import re"
   ]
  },
  {
   "cell_type": "code",
   "execution_count": 2,
   "metadata": {},
   "outputs": [],
   "source": [
    "occupations_list = [\n",
    "    'ICT ales professional',\n",
    "    'Marketing manager',\n",
    "    'Product analyst',\n",
    "    'Product manager',\n",
    "    'Product designer',\n",
    "    'Business Intelligence professional',\n",
    "    'Infraestructure engineer',\n",
    "    'Computer ystems Analyst',\n",
    "    'Software infrastructure architect',\n",
    "    'Web developer',\n",
    "    'Software developer',\n",
    "    'App developer',\n",
    "    'User interface designer',\n",
    "    'Software engineer',\n",
    "    'Software architect',\n",
    "    'Software Quality Assurance Analysts and Testers',\n",
    "    'Embedded ystems engineer',\n",
    "    'Web and Digital Interface Designers',\n",
    "    'Database infrastructure engineer',\n",
    "    'Network architect',\n",
    "    'Database Administrators',\n",
    "    'Database Architects',\n",
    "    'Network and Computer ystems Administrator',\n",
    "    'Artificial intelligence',\n",
    "    'Machine Learning engineer',\n",
    "    'Data cience engineer',\n",
    "    'Data analyst',\n",
    "    'Data cientist',\n",
    "    'Artifical Intelligence cientist',\n",
    "    'Data architect',\n",
    "    'ICT ecurity pecialist',\n",
    "    'IT ecurity operations',\n",
    "    'Information ecurity Analysts',\n",
    "    'Product ecurity and IT ecurity Integration pecialist',\n",
    "    'Product risk pecialist',\n",
    "    'ICT ecurity pecialist',\n",
    "    'Security architect',\n",
    "    'Database support engineer',\n",
    "    'Data center operations engineer',\n",
    "    'Support systems engineer',\n",
    "    'Computer Network upport pecialists'\n",
    "    ]"
   ]
  },
  {
   "cell_type": "code",
   "execution_count": 22,
   "metadata": {},
   "outputs": [
    {
     "name": "stdout",
     "output_type": "stream",
     "text": [
      "<http.client.HTTPSConnection object at 0x00000185823033A0>\n"
     ]
    }
   ],
   "source": [
    "# Configuración de conexión y headers de la API\n",
    "conn = http.client.HTTPSConnection(\"indeed12.p.rapidapi.com\")\n",
    "headers = {\n",
    "    'X-RapidAPI-Key': \"7aaca348d5msh9e827a8093c9079p1cebe3jsn33ba8196246e\",\n",
    "    'X-RapidAPI-Host': \"indeed12.p.rapidapi.com\"\n",
    "}"
   ]
  },
  {
   "cell_type": "code",
   "execution_count": 23,
   "metadata": {},
   "outputs": [],
   "source": [
    "# Función para obtener los IDs de trabajos\n",
    "def get_job_ids(query, location, page_id):\n",
    "    conn.request(\"GET\", f\"/jobs/search?query={query}&location={location}&page_id={page_id}&radius=50\", headers=headers)\n",
    "    res = conn.getresponse()\n",
    "    print(res)\n",
    "    data = res.read()\n",
    "    jobs_data = json.loads(data.decode(\"utf-8\"))\n",
    "    job_ids = [job['id'] for job in jobs_data['hits']]\n",
    "    return job_ids"
   ]
  },
  {
   "cell_type": "code",
   "execution_count": 5,
   "metadata": {},
   "outputs": [],
   "source": [
    "# Función para obtener los detalles de un trabajo\n",
    "def get_job_details(job_id):\n",
    "    conn.request(\"GET\", f\"/job/{job_id}\", headers=headers)\n",
    "    res = conn.getresponse()\n",
    "    data = res.read()\n",
    "    job_details = json.loads(data.decode(\"utf-8\"))\n",
    "    return job_details"
   ]
  },
  {
   "cell_type": "code",
   "execution_count": 6,
   "metadata": {},
   "outputs": [],
   "source": [
    "def remove_html_tags_and_clean(text):\n",
    "    # Elimina cualquier tag HTML\n",
    "    clean_text = re.sub(r'<[^>]+>', '', text)\n",
    "    # Convierte entidades HTML a texto\n",
    "    clean_text = html.unescape(clean_text)\n",
    "    # Elimina espacios extra y saltos de línea múltiples\n",
    "    clean_text = re.sub(r'\\s+', ' ', clean_text).strip()\n",
    "    return clean_text"
   ]
  },
  {
   "cell_type": "code",
   "execution_count": 24,
   "metadata": {},
   "outputs": [
    {
     "name": "stdout",
     "output_type": "stream",
     "text": [
      "<http.client.HTTPResponse object at 0x00000185806BF310>\n"
     ]
    }
   ],
   "source": [
    "# Obtener IDs de trabajos\n",
    "job_ids = get_job_ids(\"Database+support+engineer\", \"Mexico\", 1)"
   ]
  },
  {
   "cell_type": "code",
   "execution_count": 25,
   "metadata": {},
   "outputs": [
    {
     "name": "stdout",
     "output_type": "stream",
     "text": [
      "Los detalles de los trabajos han sido guardados en 'job_details.csv'\n"
     ]
    }
   ],
   "source": [
    "# Crear archivo CSV y escribir los detalles de los trabajos\n",
    "with open('indeed_rapidapi.csv', 'w', newline='', encoding='utf-8') as file:\n",
    "    writer = csv.writer(file)\n",
    "    # Escribir cabecera del CSV\n",
    "    writer.writerow(['JobID', 'JobTitle', 'Company', 'Location', 'PostDate', 'ExtractDate', 'Details', 'Salary', 'JobUrl'])\n",
    "    \n",
    "    # Recuperar y escribir detalles de cada trabajo\n",
    "    for job_id in job_ids:\n",
    "        details = get_job_details(job_id)\n",
    "        job_title = details['job_title']\n",
    "        company = details['company']['name']\n",
    "        location = details['location']\n",
    "        post_date = details['creation_date']\n",
    "        extract_date = datetime.now().strftime('%Y-%m-%d')\n",
    "        full_details = remove_html_tags_and_clean(details['description'])  # Elimina HTML de los detalles completos\n",
    "        salary_range = f\"${details['salary']['min']:,} - ${details['salary']['max']:,} per year\" if details.get('salary') else \"Not provided\"\n",
    "        job_url = details['indeed_final_url']\n",
    "        \n",
    "        # Escribir fila en CSV\n",
    "        writer.writerow([job_id, job_title, company, location, post_date, extract_date, full_details, salary_range, job_url])\n",
    "\n",
    "print(\"Los detalles de los trabajos han sido guardados en 'indeed_rapidapi.csv'\")\n"
   ]
  },
  {
   "cell_type": "code",
   "execution_count": null,
   "metadata": {},
   "outputs": [],
   "source": [
    "# Si hay trabajos disponibles, obtener y mostrar los detalles del primer trabajo\n",
    "if job_ids:\n",
    "    job_details = get_job_details(job_ids[0])\n",
    "    print(json.dumps(job_details, indent=0))\n",
    "else:\n",
    "    print(\"No se encontraron trabajos con los criterios especificados.\")"
   ]
  }
 ],
 "metadata": {
  "kernelspec": {
   "display_name": ".venv",
   "language": "python",
   "name": "python3"
  },
  "language_info": {
   "codemirror_mode": {
    "name": "ipython",
    "version": 3
   },
   "file_extension": ".py",
   "mimetype": "text/x-python",
   "name": "python",
   "nbconvert_exporter": "python",
   "pygments_lexer": "ipython3",
   "version": "3.10.0"
  }
 },
 "nbformat": 4,
 "nbformat_minor": 2
}
