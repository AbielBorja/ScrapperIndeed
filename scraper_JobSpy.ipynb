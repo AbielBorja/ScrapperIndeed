{
 "cells": [
  {
   "cell_type": "markdown",
   "metadata": {},
   "source": [
    "<div class=\"alert alert-block alert-info\">\n",
    "<b>Scrapper:</b> Este scrapper fue un descubrimiento de internet __[link text](https://github.com/Bunsly/JobSpy)__ funciona bastante bien en cuestión de segundos. Puede ser una buena opción si se desea no pagar.\n",
    "</div>"
   ]
  },
  {
   "cell_type": "markdown",
   "metadata": {},
   "source": [
    "### Instalar Requirements"
   ]
  },
  {
   "cell_type": "code",
   "execution_count": 2,
   "metadata": {},
   "outputs": [
    {
     "name": "stdout",
     "output_type": "stream",
     "text": [
      "Collecting python-jobspy\n",
      "  Using cached python_jobspy-1.1.57-py3-none-any.whl.metadata (9.7 kB)\n",
      "Collecting NUMPY==1.24.2 (from python-jobspy)\n",
      "  Using cached numpy-1.24.2-cp310-cp310-win_amd64.whl.metadata (5.6 kB)\n",
      "Requirement already satisfied: beautifulsoup4<5.0.0,>=4.12.2 in c:\\users\\abielboga\\documents\\estancia-de-investigacion\\indeed scraper\\.venv\\lib\\site-packages (from python-jobspy) (4.12.3)\n",
      "Collecting markdownify<0.12.0,>=0.11.6 (from python-jobspy)\n",
      "  Using cached markdownify-0.11.6-py3-none-any.whl.metadata (7.3 kB)\n",
      "Requirement already satisfied: pandas<3.0.0,>=2.1.0 in c:\\users\\abielboga\\documents\\estancia-de-investigacion\\indeed scraper\\.venv\\lib\\site-packages (from python-jobspy) (2.2.2)\n",
      "Requirement already satisfied: pydantic<3.0.0,>=2.3.0 in c:\\users\\abielboga\\documents\\estancia-de-investigacion\\indeed scraper\\.venv\\lib\\site-packages (from python-jobspy) (2.7.1)\n",
      "Collecting regex<2025.0.0,>=2024.4.28 (from python-jobspy)\n",
      "  Using cached regex-2024.5.15-cp310-cp310-win_amd64.whl.metadata (41 kB)\n",
      "Requirement already satisfied: requests<3.0.0,>=2.31.0 in c:\\users\\abielboga\\documents\\estancia-de-investigacion\\indeed scraper\\.venv\\lib\\site-packages (from python-jobspy) (2.31.0)\n",
      "Collecting tls-client<2.0.0,>=1.0.1 (from python-jobspy)\n",
      "  Using cached tls_client-1.0.1-py3-none-any.whl.metadata (5.0 kB)\n",
      "Requirement already satisfied: soupsieve>1.2 in c:\\users\\abielboga\\documents\\estancia-de-investigacion\\indeed scraper\\.venv\\lib\\site-packages (from beautifulsoup4<5.0.0,>=4.12.2->python-jobspy) (2.5)\n",
      "Requirement already satisfied: six<2,>=1.15 in c:\\users\\abielboga\\documents\\estancia-de-investigacion\\indeed scraper\\.venv\\lib\\site-packages (from markdownify<0.12.0,>=0.11.6->python-jobspy) (1.16.0)\n",
      "Requirement already satisfied: python-dateutil>=2.8.2 in c:\\users\\abielboga\\documents\\estancia-de-investigacion\\indeed scraper\\.venv\\lib\\site-packages (from pandas<3.0.0,>=2.1.0->python-jobspy) (2.9.0.post0)\n",
      "Requirement already satisfied: pytz>=2020.1 in c:\\users\\abielboga\\documents\\estancia-de-investigacion\\indeed scraper\\.venv\\lib\\site-packages (from pandas<3.0.0,>=2.1.0->python-jobspy) (2024.1)\n",
      "Requirement already satisfied: tzdata>=2022.7 in c:\\users\\abielboga\\documents\\estancia-de-investigacion\\indeed scraper\\.venv\\lib\\site-packages (from pandas<3.0.0,>=2.1.0->python-jobspy) (2024.1)\n",
      "Requirement already satisfied: annotated-types>=0.4.0 in c:\\users\\abielboga\\documents\\estancia-de-investigacion\\indeed scraper\\.venv\\lib\\site-packages (from pydantic<3.0.0,>=2.3.0->python-jobspy) (0.6.0)\n",
      "Requirement already satisfied: pydantic-core==2.18.2 in c:\\users\\abielboga\\documents\\estancia-de-investigacion\\indeed scraper\\.venv\\lib\\site-packages (from pydantic<3.0.0,>=2.3.0->python-jobspy) (2.18.2)\n",
      "Requirement already satisfied: typing-extensions>=4.6.1 in c:\\users\\abielboga\\documents\\estancia-de-investigacion\\indeed scraper\\.venv\\lib\\site-packages (from pydantic<3.0.0,>=2.3.0->python-jobspy) (4.11.0)\n",
      "Requirement already satisfied: charset-normalizer<4,>=2 in c:\\users\\abielboga\\documents\\estancia-de-investigacion\\indeed scraper\\.venv\\lib\\site-packages (from requests<3.0.0,>=2.31.0->python-jobspy) (3.3.2)\n",
      "Requirement already satisfied: idna<4,>=2.5 in c:\\users\\abielboga\\documents\\estancia-de-investigacion\\indeed scraper\\.venv\\lib\\site-packages (from requests<3.0.0,>=2.31.0->python-jobspy) (3.7)\n",
      "Requirement already satisfied: urllib3<3,>=1.21.1 in c:\\users\\abielboga\\documents\\estancia-de-investigacion\\indeed scraper\\.venv\\lib\\site-packages (from requests<3.0.0,>=2.31.0->python-jobspy) (2.2.1)\n",
      "Requirement already satisfied: certifi>=2017.4.17 in c:\\users\\abielboga\\documents\\estancia-de-investigacion\\indeed scraper\\.venv\\lib\\site-packages (from requests<3.0.0,>=2.31.0->python-jobspy) (2024.2.2)\n",
      "Using cached python_jobspy-1.1.57-py3-none-any.whl (31 kB)\n",
      "Using cached numpy-1.24.2-cp310-cp310-win_amd64.whl (14.8 MB)\n",
      "Using cached markdownify-0.11.6-py3-none-any.whl (16 kB)\n",
      "Using cached regex-2024.5.15-cp310-cp310-win_amd64.whl (268 kB)\n",
      "Using cached tls_client-1.0.1-py3-none-any.whl (41.3 MB)\n",
      "Installing collected packages: tls-client, regex, NUMPY, markdownify, python-jobspy\n",
      "  Attempting uninstall: NUMPY\n",
      "    Found existing installation: numpy 1.26.4\n",
      "    Uninstalling numpy-1.26.4:\n",
      "      Successfully uninstalled numpy-1.26.4\n",
      "Successfully installed NUMPY-1.24.2 markdownify-0.11.6 python-jobspy-1.1.57 regex-2024.5.15 tls-client-1.0.1\n"
     ]
    }
   ],
   "source": [
    "! pip install -U python-jobspy"
   ]
  },
  {
   "cell_type": "code",
   "execution_count": 1,
   "metadata": {},
   "outputs": [],
   "source": [
    "import csv\n",
    "from jobspy import scrape_jobs"
   ]
  },
  {
   "cell_type": "code",
   "execution_count": 2,
   "metadata": {},
   "outputs": [],
   "source": [
    "occupations_list = [\n",
    "    \"ICT sales professional\",\n",
    "    \"Marketing manager\",\n",
    "    \"Product analyst\",\n",
    "    \"Product manager\",\n",
    "    \"Product designer\",\n",
    "    \"Business Intelligence professional\",\n",
    "    \"Infraestructure engineer\",\n",
    "    \"Computer Systems Analyst\",\n",
    "    \"Software infrastructure architect\",\n",
    "    \"Web developer\",\n",
    "    \"Software developer\",\n",
    "    \"App developer\",\n",
    "    \"User interface designer\",\n",
    "    \"Software engineer\",\n",
    "    \"Software architect\",\n",
    "    \"Software Quality Assurance Analysts and Testers\",\n",
    "    \"Embedded systems engineer\",\n",
    "    \"Web and Digital Interface Designers\",\n",
    "    \"Database infrastructure engineer\",\n",
    "    \"Network architect\",\n",
    "    \"Database Administrators\",\n",
    "    \"Database Architects\",\n",
    "    \"Network and Computer Systems Administrator\",\n",
    "    \"Artificial intelligence engineer\",\n",
    "    \"Machine Learning engineer\",\n",
    "    \"Data science engineer\",\n",
    "    \"Data analyst\",\n",
    "    \"Data scientist\",\n",
    "    \"Artificial Intelligence scientist\",\n",
    "    \"Data architect\",\n",
    "    \"ICT security specialist\",\n",
    "    \"IT security operations\",\n",
    "    \"Information Security Analysts\",\n",
    "    \"Product Security and IT Security Integration Specialist\",\n",
    "    \"Product risk specialist\",\n",
    "    \"Security architect\",\n",
    "    \"Database support engineer\",\n",
    "    \"Data center operations engineer\",\n",
    "    \"Support systems engineer\",\n",
    "    \"Computer Network Support Specialists\"\n",
    "]"
   ]
  },
  {
   "cell_type": "code",
   "execution_count": 3,
   "metadata": {},
   "outputs": [],
   "source": [
    "import pandas as pd\n",
    "import csv\n",
    "\n",
    "def clean_text(text):\n",
    "    \"\"\" Limpiar el texto eliminando saltos de línea y escapando comillas dobles. \"\"\"\n",
    "    try:\n",
    "        if pd.isna(text):\n",
    "            return text\n",
    "        # Aseguramos la conversión a string por si algún elemento no es reconocido como tal.\n",
    "        text = str(text)\n",
    "        return text.replace('\\n', ' ').replace('\\r', ' ').replace('\"', '\"\"')\n",
    "    except Exception as e:\n",
    "        # Imprimimos el error y el tipo de dato que causó el error para diagnosticar.\n",
    "        print(f\"Error processing text: {text} with error {e}\")\n",
    "        return text\n",
    "\n",
    "def scrapp(occ):\n",
    "    jobs = scrape_jobs(\n",
    "        site_name=[\"indeed\"],\n",
    "        search_term=occ,\n",
    "        location=\"San Francisco\", # MEXICO\n",
    "        results_wanted=100,\n",
    "        country_indeed=\"USA\",  # USA OR Mexico\n",
    "    )\n",
    "    print(f\"Found {len(jobs)} jobs\")\n",
    "    if not jobs.empty:\n",
    "        # Insertamos la columna 'occ' al inicio del DataFrame con el valor de 'occ'\n",
    "        jobs.insert(0, 'occ', occ)\n",
    "        # Aplicamos la limpieza a todas las columnas de texto\n",
    "        for column in jobs.select_dtypes(include=['object']).columns:\n",
    "            jobs[column] = jobs[column].apply(clean_text)\n",
    "        # Verificamos si es la primera vez que se escribe en el archivo para incluir el encabezado\n",
    "        with open(\"jobs_SanFrancisco.csv\", mode='a', newline='', encoding='utf-8') as file:\n",
    "            jobs.to_csv(file, header=file.tell()==0, quoting=csv.QUOTE_ALL, escapechar='\\\\', index=False)"
   ]
  },
  {
   "cell_type": "code",
   "execution_count": 4,
   "metadata": {},
   "outputs": [
    {
     "name": "stderr",
     "output_type": "stream",
     "text": [
      "2024-06-18 12:27:27,266 - JobSpy - INFO - Indeed search page: 1\n"
     ]
    },
    {
     "name": "stdout",
     "output_type": "stream",
     "text": [
      "---- ICT sales professional ----\n"
     ]
    },
    {
     "name": "stderr",
     "output_type": "stream",
     "text": [
      "2024-06-18 12:27:27,789 - JobSpy - INFO - Indeed search page: 2\n",
      "2024-06-18 12:27:28,005 - JobSpy - INFO - Indeed found no jobs on page: 2\n",
      "2024-06-18 12:27:28,007 - JobSpy - INFO - Indeed finished scraping\n",
      "2024-06-18 12:27:28,071 - JobSpy - INFO - Indeed search page: 1\n"
     ]
    },
    {
     "name": "stdout",
     "output_type": "stream",
     "text": [
      "Found 3 jobs\n",
      "---- Marketing manager ----\n"
     ]
    },
    {
     "name": "stderr",
     "output_type": "stream",
     "text": [
      "2024-06-18 12:27:29,753 - JobSpy - INFO - Indeed finished scraping\n",
      "2024-06-18 12:27:30,299 - JobSpy - INFO - Indeed search page: 1\n"
     ]
    },
    {
     "name": "stdout",
     "output_type": "stream",
     "text": [
      "Found 100 jobs\n",
      "---- Product analyst ----\n"
     ]
    },
    {
     "name": "stderr",
     "output_type": "stream",
     "text": [
      "2024-06-18 12:27:31,708 - JobSpy - INFO - Indeed search page: 2\n",
      "2024-06-18 12:27:32,174 - JobSpy - INFO - Indeed found no jobs on page: 2\n",
      "2024-06-18 12:27:32,175 - JobSpy - INFO - Indeed finished scraping\n",
      "2024-06-18 12:27:32,687 - JobSpy - INFO - Indeed search page: 1\n"
     ]
    },
    {
     "name": "stdout",
     "output_type": "stream",
     "text": [
      "Found 72 jobs\n",
      "---- Product manager ----\n"
     ]
    },
    {
     "name": "stderr",
     "output_type": "stream",
     "text": [
      "2024-06-18 12:27:34,669 - JobSpy - INFO - Indeed finished scraping\n",
      "2024-06-18 12:27:35,180 - JobSpy - INFO - Indeed search page: 1\n"
     ]
    },
    {
     "name": "stdout",
     "output_type": "stream",
     "text": [
      "Found 100 jobs\n",
      "---- Product designer ----\n"
     ]
    },
    {
     "name": "stderr",
     "output_type": "stream",
     "text": [
      "2024-06-18 12:27:36,571 - JobSpy - INFO - Indeed finished scraping\n",
      "2024-06-18 12:27:37,140 - JobSpy - INFO - Indeed search page: 1\n"
     ]
    },
    {
     "name": "stdout",
     "output_type": "stream",
     "text": [
      "Found 100 jobs\n",
      "---- Business Intelligence professional ----\n"
     ]
    },
    {
     "name": "stderr",
     "output_type": "stream",
     "text": [
      "2024-06-18 12:27:39,003 - JobSpy - INFO - Indeed finished scraping\n",
      "2024-06-18 12:27:39,577 - JobSpy - INFO - Indeed search page: 1\n"
     ]
    },
    {
     "name": "stdout",
     "output_type": "stream",
     "text": [
      "Found 100 jobs\n",
      "---- Infraestructure engineer ----\n"
     ]
    },
    {
     "name": "stderr",
     "output_type": "stream",
     "text": [
      "2024-06-18 12:27:39,938 - JobSpy - INFO - Indeed found no jobs on page: 1\n",
      "2024-06-18 12:27:39,939 - JobSpy - INFO - Indeed finished scraping\n",
      "2024-06-18 12:27:39,946 - JobSpy - INFO - Indeed search page: 1\n"
     ]
    },
    {
     "name": "stdout",
     "output_type": "stream",
     "text": [
      "Found 0 jobs\n",
      "---- Computer Systems Analyst ----\n"
     ]
    },
    {
     "name": "stderr",
     "output_type": "stream",
     "text": [
      "2024-06-18 12:27:41,431 - JobSpy - INFO - Indeed finished scraping\n",
      "2024-06-18 12:27:41,813 - JobSpy - INFO - Indeed search page: 1\n"
     ]
    },
    {
     "name": "stdout",
     "output_type": "stream",
     "text": [
      "Found 100 jobs\n",
      "---- Software infrastructure architect ----\n"
     ]
    },
    {
     "name": "stderr",
     "output_type": "stream",
     "text": [
      "2024-06-18 12:27:43,635 - JobSpy - INFO - Indeed finished scraping\n",
      "2024-06-18 12:27:44,226 - JobSpy - INFO - Indeed search page: 1\n"
     ]
    },
    {
     "name": "stdout",
     "output_type": "stream",
     "text": [
      "Found 100 jobs\n",
      "---- Web developer ----\n"
     ]
    },
    {
     "name": "stderr",
     "output_type": "stream",
     "text": [
      "c:\\Users\\AbielBoga\\Documents\\Estancia-de-Investigacion\\Indeed Scraper\\.venv\\lib\\site-packages\\markdownify\\__init__.py:96: MarkupResemblesLocatorWarning: The input looks more like a filename than markup. You may want to open this file and pass the filehandle into Beautiful Soup.\n",
      "  soup = BeautifulSoup(html, 'html.parser')\n",
      "2024-06-18 12:27:45,718 - JobSpy - INFO - Indeed finished scraping\n",
      "2024-06-18 12:27:46,119 - JobSpy - INFO - Indeed search page: 1\n"
     ]
    },
    {
     "name": "stdout",
     "output_type": "stream",
     "text": [
      "Found 100 jobs\n",
      "---- Software developer ----\n"
     ]
    },
    {
     "name": "stderr",
     "output_type": "stream",
     "text": [
      "2024-06-18 12:27:47,325 - JobSpy - INFO - Indeed finished scraping\n",
      "2024-06-18 12:27:47,797 - JobSpy - INFO - Indeed search page: 1\n"
     ]
    },
    {
     "name": "stdout",
     "output_type": "stream",
     "text": [
      "Found 100 jobs\n",
      "---- App developer ----\n"
     ]
    },
    {
     "name": "stderr",
     "output_type": "stream",
     "text": [
      "2024-06-18 12:27:49,612 - JobSpy - INFO - Indeed finished scraping\n",
      "2024-06-18 12:27:50,164 - JobSpy - INFO - Indeed search page: 1\n"
     ]
    },
    {
     "name": "stdout",
     "output_type": "stream",
     "text": [
      "Found 100 jobs\n",
      "---- User interface designer ----\n"
     ]
    },
    {
     "name": "stderr",
     "output_type": "stream",
     "text": [
      "2024-06-18 12:27:51,571 - JobSpy - INFO - Indeed finished scraping\n",
      "2024-06-18 12:27:52,116 - JobSpy - INFO - Indeed search page: 1\n"
     ]
    },
    {
     "name": "stdout",
     "output_type": "stream",
     "text": [
      "Found 100 jobs\n",
      "---- Software engineer ----\n"
     ]
    },
    {
     "name": "stderr",
     "output_type": "stream",
     "text": [
      "2024-06-18 12:27:53,367 - JobSpy - INFO - Indeed finished scraping\n",
      "2024-06-18 12:27:53,848 - JobSpy - INFO - Indeed search page: 1\n"
     ]
    },
    {
     "name": "stdout",
     "output_type": "stream",
     "text": [
      "Found 100 jobs\n",
      "---- Software architect ----\n"
     ]
    },
    {
     "name": "stderr",
     "output_type": "stream",
     "text": [
      "2024-06-18 12:27:55,485 - JobSpy - INFO - Indeed finished scraping\n",
      "2024-06-18 12:27:55,906 - JobSpy - INFO - Indeed search page: 1\n"
     ]
    },
    {
     "name": "stdout",
     "output_type": "stream",
     "text": [
      "Found 100 jobs\n",
      "---- Software Quality Assurance Analysts and Testers ----\n"
     ]
    },
    {
     "name": "stderr",
     "output_type": "stream",
     "text": [
      "2024-06-18 12:27:56,303 - JobSpy - INFO - Indeed search page: 2\n",
      "2024-06-18 12:27:56,517 - JobSpy - INFO - Indeed found no jobs on page: 2\n",
      "2024-06-18 12:27:56,519 - JobSpy - INFO - Indeed finished scraping\n",
      "2024-06-18 12:27:56,549 - JobSpy - INFO - Indeed search page: 1\n"
     ]
    },
    {
     "name": "stdout",
     "output_type": "stream",
     "text": [
      "Found 3 jobs\n",
      "---- Embedded systems engineer ----\n"
     ]
    },
    {
     "name": "stderr",
     "output_type": "stream",
     "text": [
      "2024-06-18 12:27:58,114 - JobSpy - INFO - Indeed finished scraping\n",
      "2024-06-18 12:27:58,534 - JobSpy - INFO - Indeed search page: 1\n"
     ]
    },
    {
     "name": "stdout",
     "output_type": "stream",
     "text": [
      "Found 100 jobs\n",
      "---- Web and Digital Interface Designers ----\n"
     ]
    },
    {
     "name": "stderr",
     "output_type": "stream",
     "text": [
      "2024-06-18 12:27:59,420 - JobSpy - INFO - Indeed search page: 2\n",
      "2024-06-18 12:27:59,971 - JobSpy - INFO - Indeed found no jobs on page: 2\n",
      "2024-06-18 12:27:59,972 - JobSpy - INFO - Indeed finished scraping\n",
      "2024-06-18 12:28:00,444 - JobSpy - INFO - Indeed search page: 1\n"
     ]
    },
    {
     "name": "stdout",
     "output_type": "stream",
     "text": [
      "Found 51 jobs\n",
      "---- Database infrastructure engineer ----\n"
     ]
    },
    {
     "name": "stderr",
     "output_type": "stream",
     "text": [
      "2024-06-18 12:28:02,554 - JobSpy - INFO - Indeed finished scraping\n",
      "2024-06-18 12:28:03,203 - JobSpy - INFO - Indeed search page: 1\n"
     ]
    },
    {
     "name": "stdout",
     "output_type": "stream",
     "text": [
      "Found 100 jobs\n",
      "---- Network architect ----\n"
     ]
    },
    {
     "name": "stderr",
     "output_type": "stream",
     "text": [
      "2024-06-18 12:28:05,057 - JobSpy - INFO - Indeed finished scraping\n",
      "2024-06-18 12:28:05,572 - JobSpy - INFO - Indeed search page: 1\n"
     ]
    },
    {
     "name": "stdout",
     "output_type": "stream",
     "text": [
      "Found 100 jobs\n",
      "---- Database Administrators ----\n"
     ]
    },
    {
     "name": "stderr",
     "output_type": "stream",
     "text": [
      "2024-06-18 12:28:06,336 - JobSpy - INFO - Indeed search page: 2\n",
      "2024-06-18 12:28:06,728 - JobSpy - INFO - Indeed found no jobs on page: 2\n",
      "2024-06-18 12:28:06,730 - JobSpy - INFO - Indeed finished scraping\n",
      "2024-06-18 12:28:06,944 - JobSpy - INFO - Indeed search page: 1\n"
     ]
    },
    {
     "name": "stdout",
     "output_type": "stream",
     "text": [
      "Found 31 jobs\n",
      "---- Database Architects ----\n"
     ]
    },
    {
     "name": "stderr",
     "output_type": "stream",
     "text": [
      "2024-06-18 12:28:08,428 - JobSpy - INFO - Indeed finished scraping\n",
      "2024-06-18 12:28:08,935 - JobSpy - INFO - Indeed search page: 1\n"
     ]
    },
    {
     "name": "stdout",
     "output_type": "stream",
     "text": [
      "Found 100 jobs\n",
      "---- Network and Computer Systems Administrator ----\n"
     ]
    },
    {
     "name": "stderr",
     "output_type": "stream",
     "text": [
      "2024-06-18 12:28:11,076 - JobSpy - INFO - Indeed finished scraping\n",
      "2024-06-18 12:28:11,546 - JobSpy - INFO - Indeed search page: 1\n"
     ]
    },
    {
     "name": "stdout",
     "output_type": "stream",
     "text": [
      "Found 100 jobs\n",
      "---- Artificial intelligence engineer ----\n"
     ]
    },
    {
     "name": "stderr",
     "output_type": "stream",
     "text": [
      "2024-06-18 12:28:12,904 - JobSpy - INFO - Indeed finished scraping\n",
      "2024-06-18 12:28:13,523 - JobSpy - INFO - Indeed search page: 1\n"
     ]
    },
    {
     "name": "stdout",
     "output_type": "stream",
     "text": [
      "Found 100 jobs\n",
      "---- Machine Learning engineer ----\n"
     ]
    },
    {
     "name": "stderr",
     "output_type": "stream",
     "text": [
      "2024-06-18 12:28:14,683 - JobSpy - INFO - Indeed finished scraping\n",
      "2024-06-18 12:28:15,567 - JobSpy - INFO - Indeed search page: 1\n"
     ]
    },
    {
     "name": "stdout",
     "output_type": "stream",
     "text": [
      "Found 100 jobs\n",
      "---- Data science engineer ----\n"
     ]
    },
    {
     "name": "stderr",
     "output_type": "stream",
     "text": [
      "2024-06-18 12:28:16,852 - JobSpy - INFO - Indeed finished scraping\n",
      "2024-06-18 12:28:17,246 - JobSpy - INFO - Indeed search page: 1\n"
     ]
    },
    {
     "name": "stdout",
     "output_type": "stream",
     "text": [
      "Found 100 jobs\n",
      "---- Data analyst ----\n"
     ]
    },
    {
     "name": "stderr",
     "output_type": "stream",
     "text": [
      "2024-06-18 12:28:18,473 - JobSpy - INFO - Indeed finished scraping\n",
      "2024-06-18 12:28:19,054 - JobSpy - INFO - Indeed search page: 1\n"
     ]
    },
    {
     "name": "stdout",
     "output_type": "stream",
     "text": [
      "Found 100 jobs\n",
      "---- Data scientist ----\n"
     ]
    },
    {
     "name": "stderr",
     "output_type": "stream",
     "text": [
      "2024-06-18 12:28:20,478 - JobSpy - INFO - Indeed finished scraping\n",
      "2024-06-18 12:28:21,058 - JobSpy - INFO - Indeed search page: 1\n"
     ]
    },
    {
     "name": "stdout",
     "output_type": "stream",
     "text": [
      "Found 100 jobs\n",
      "---- Artificial Intelligence scientist ----\n"
     ]
    },
    {
     "name": "stderr",
     "output_type": "stream",
     "text": [
      "2024-06-18 12:28:22,300 - JobSpy - INFO - Indeed finished scraping\n",
      "2024-06-18 12:28:22,880 - JobSpy - INFO - Indeed search page: 1\n"
     ]
    },
    {
     "name": "stdout",
     "output_type": "stream",
     "text": [
      "Found 100 jobs\n",
      "---- Data architect ----\n"
     ]
    },
    {
     "name": "stderr",
     "output_type": "stream",
     "text": [
      "2024-06-18 12:28:24,346 - JobSpy - INFO - Indeed finished scraping\n",
      "2024-06-18 12:28:24,869 - JobSpy - INFO - Indeed search page: 1\n"
     ]
    },
    {
     "name": "stdout",
     "output_type": "stream",
     "text": [
      "Found 100 jobs\n",
      "---- ICT security specialist ----\n"
     ]
    },
    {
     "name": "stderr",
     "output_type": "stream",
     "text": [
      "2024-06-18 12:28:25,374 - JobSpy - INFO - Indeed search page: 2\n",
      "2024-06-18 12:28:25,579 - JobSpy - INFO - Indeed found no jobs on page: 2\n",
      "2024-06-18 12:28:25,580 - JobSpy - INFO - Indeed finished scraping\n",
      "2024-06-18 12:28:25,628 - JobSpy - INFO - Indeed search page: 1\n"
     ]
    },
    {
     "name": "stdout",
     "output_type": "stream",
     "text": [
      "Found 3 jobs\n",
      "---- IT security operations ----\n"
     ]
    },
    {
     "name": "stderr",
     "output_type": "stream",
     "text": [
      "2024-06-18 12:28:27,672 - JobSpy - INFO - Indeed finished scraping\n",
      "2024-06-18 12:28:28,167 - JobSpy - INFO - Indeed search page: 1\n"
     ]
    },
    {
     "name": "stdout",
     "output_type": "stream",
     "text": [
      "Found 100 jobs\n",
      "---- Information Security Analysts ----\n"
     ]
    },
    {
     "name": "stderr",
     "output_type": "stream",
     "text": [
      "2024-06-18 12:28:30,513 - JobSpy - INFO - Indeed finished scraping\n",
      "2024-06-18 12:28:30,948 - JobSpy - INFO - Indeed search page: 1\n"
     ]
    },
    {
     "name": "stdout",
     "output_type": "stream",
     "text": [
      "Found 100 jobs\n",
      "---- Product Security and IT Security Integration Specialist ----\n"
     ]
    },
    {
     "name": "stderr",
     "output_type": "stream",
     "text": [
      "2024-06-18 12:28:31,981 - JobSpy - INFO - Indeed search page: 2\n",
      "2024-06-18 12:28:32,328 - JobSpy - INFO - Indeed found no jobs on page: 2\n",
      "2024-06-18 12:28:32,330 - JobSpy - INFO - Indeed finished scraping\n",
      "2024-06-18 12:28:32,594 - JobSpy - INFO - Indeed search page: 1\n"
     ]
    },
    {
     "name": "stdout",
     "output_type": "stream",
     "text": [
      "Found 39 jobs\n",
      "---- Product risk specialist ----\n"
     ]
    },
    {
     "name": "stderr",
     "output_type": "stream",
     "text": [
      "2024-06-18 12:28:34,643 - JobSpy - INFO - Indeed finished scraping\n",
      "2024-06-18 12:28:35,220 - JobSpy - INFO - Indeed search page: 1\n"
     ]
    },
    {
     "name": "stdout",
     "output_type": "stream",
     "text": [
      "Found 100 jobs\n",
      "---- Security architect ----\n"
     ]
    },
    {
     "name": "stderr",
     "output_type": "stream",
     "text": [
      "2024-06-18 12:28:36,674 - JobSpy - INFO - Indeed finished scraping\n",
      "2024-06-18 12:28:37,533 - JobSpy - INFO - Indeed search page: 1\n"
     ]
    },
    {
     "name": "stdout",
     "output_type": "stream",
     "text": [
      "Found 100 jobs\n",
      "---- Database support engineer ----\n"
     ]
    },
    {
     "name": "stderr",
     "output_type": "stream",
     "text": [
      "2024-06-18 12:28:39,188 - JobSpy - INFO - Indeed finished scraping\n",
      "2024-06-18 12:28:39,609 - JobSpy - INFO - Indeed search page: 1\n"
     ]
    },
    {
     "name": "stdout",
     "output_type": "stream",
     "text": [
      "Found 100 jobs\n",
      "---- Data center operations engineer ----\n"
     ]
    },
    {
     "name": "stderr",
     "output_type": "stream",
     "text": [
      "2024-06-18 12:28:40,903 - JobSpy - INFO - Indeed finished scraping\n",
      "2024-06-18 12:28:41,278 - JobSpy - INFO - Indeed search page: 1\n"
     ]
    },
    {
     "name": "stdout",
     "output_type": "stream",
     "text": [
      "Found 100 jobs\n",
      "---- Support systems engineer ----\n"
     ]
    },
    {
     "name": "stderr",
     "output_type": "stream",
     "text": [
      "2024-06-18 12:28:43,117 - JobSpy - INFO - Indeed finished scraping\n",
      "2024-06-18 12:28:43,731 - JobSpy - INFO - Indeed search page: 1\n"
     ]
    },
    {
     "name": "stdout",
     "output_type": "stream",
     "text": [
      "Found 100 jobs\n",
      "---- Computer Network Support Specialists ----\n"
     ]
    },
    {
     "name": "stderr",
     "output_type": "stream",
     "text": [
      "2024-06-18 12:28:45,380 - JobSpy - INFO - Indeed finished scraping\n"
     ]
    },
    {
     "name": "stdout",
     "output_type": "stream",
     "text": [
      "Found 100 jobs\n"
     ]
    }
   ],
   "source": [
    "for occ in occupations_list:\n",
    "    print(f\"---- {occ} ----\")\n",
    "    scrapp(occ)"
   ]
  },
  {
   "cell_type": "code",
   "execution_count": null,
   "metadata": {},
   "outputs": [],
   "source": [
    "print(f\"Found {len(jobs)} jobs\")\n",
    "print(jobs.head())\n",
    "jobs.to_csv(\"jobs.csv\", quoting=csv.QUOTE_NONNUMERIC, escapechar=\"\\\\\", index=False) # to_excel"
   ]
  }
 ],
 "metadata": {
  "kernelspec": {
   "display_name": "Python 3",
   "language": "python",
   "name": "python3"
  },
  "language_info": {
   "codemirror_mode": {
    "name": "ipython",
    "version": 3
   },
   "file_extension": ".py",
   "mimetype": "text/x-python",
   "name": "python",
   "nbconvert_exporter": "python",
   "pygments_lexer": "ipython3",
   "version": "3.10.0"
  }
 },
 "nbformat": 4,
 "nbformat_minor": 2
}
