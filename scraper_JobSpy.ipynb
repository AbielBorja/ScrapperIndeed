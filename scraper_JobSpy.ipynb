{
 "cells": [
  {
   "cell_type": "markdown",
   "metadata": {},
   "source": [
    "<div class=\"alert alert-block alert-info\">\n",
    "<b>Scrapper:</b> Este scrapper fue un descubrimiento de internet __[link text](https://github.com/Bunsly/JobSpy)__ funciona bastante bien en cuestión de segundos. Puede ser una buena opción si se desea no pagar.\n",
    "</div>"
   ]
  },
  {
   "cell_type": "markdown",
   "metadata": {},
   "source": [
    "### Instalar Requirements"
   ]
  },
  {
   "cell_type": "code",
   "execution_count": null,
   "metadata": {},
   "outputs": [],
   "source": [
    "! pip install -U python-jobspy"
   ]
  },
  {
   "cell_type": "code",
   "execution_count": 1,
   "metadata": {},
   "outputs": [],
   "source": [
    "import csv\n",
    "from jobspy import scrape_jobs"
   ]
  },
  {
   "cell_type": "code",
   "execution_count": 2,
   "metadata": {},
   "outputs": [],
   "source": [
    "occupations_list = [\n",
    "    \"ICT sales professional\",\n",
    "    \"Marketing manager\",\n",
    "    \"Product analyst\",\n",
    "    \"Product manager\",\n",
    "    \"Product designer\",\n",
    "    \"Business Intelligence professional\",\n",
    "    \"Infraestructure engineer\",\n",
    "    \"Computer Systems Analyst\",\n",
    "    \"Software infrastructure architect\",\n",
    "    \"Web developer\",\n",
    "    \"Software developer\",\n",
    "    \"App developer\",\n",
    "    \"User interface designer\",\n",
    "    \"Software engineer\",\n",
    "    \"Software architect\",\n",
    "    \"Software Quality Assurance Analysts and Testers\",\n",
    "    \"Embedded systems engineer\",\n",
    "    \"Web and Digital Interface Designers\",\n",
    "    \"Database infrastructure engineer\",\n",
    "    \"Network architect\",\n",
    "    \"Database Administrators\",\n",
    "    \"Database Architects\",\n",
    "    \"Network and Computer Systems Administrator\",\n",
    "    \"Artificial intelligence engineer\",\n",
    "    \"Machine Learning engineer\",\n",
    "    \"Data science engineer\",\n",
    "    \"Data analyst\",\n",
    "    \"Data scientist\",\n",
    "    \"Artificial Intelligence scientist\",\n",
    "    \"Data architect\",\n",
    "    \"ICT security specialist\",\n",
    "    \"IT security operations\",\n",
    "    \"Information Security Analysts\",\n",
    "    \"Product Security and IT Security Integration Specialist\",\n",
    "    \"Product risk specialist\",\n",
    "    \"Security architect\",\n",
    "    \"Database support engineer\",\n",
    "    \"Data center operations engineer\",\n",
    "    \"Support systems engineer\",\n",
    "    \"Computer Network Support Specialists\"\n",
    "]"
   ]
  },
  {
   "cell_type": "code",
   "execution_count": 3,
   "metadata": {},
   "outputs": [],
   "source": [
    "import pandas as pd\n",
    "import csv\n",
    "\n",
    "def clean_text(text):\n",
    "    \"\"\" Limpiar el texto eliminando saltos de línea y escapando comillas dobles. \"\"\"\n",
    "    try:\n",
    "        if pd.isna(text):\n",
    "            return text\n",
    "        # Aseguramos la conversión a string por si algún elemento no es reconocido como tal.\n",
    "        text = str(text)\n",
    "        return text.replace('\\n', ' ').replace('\\r', ' ').replace('\"', '\"\"')\n",
    "    except Exception as e:\n",
    "        # Imprimimos el error y el tipo de dato que causó el error para diagnosticar.\n",
    "        print(f\"Error processing text: {text} with error {e}\")\n",
    "        return text\n",
    "\n",
    "def scrapp(occ):\n",
    "    jobs = scrape_jobs(\n",
    "        site_name=[\"indeed\"],\n",
    "        search_term=occ,\n",
    "        location=\"San Francisco\", # MEXICO\n",
    "        results_wanted=100,\n",
    "        country_indeed=\"USA\",  # USA OR Mexico\n",
    "    )\n",
    "    print(f\"Found {len(jobs)} jobs\")\n",
    "    if not jobs.empty:\n",
    "        # Insertamos la columna 'occ' al inicio del DataFrame con el valor de 'occ'\n",
    "        jobs.insert(0, 'occ', occ)\n",
    "        # Aplicamos la limpieza a todas las columnas de texto\n",
    "        for column in jobs.select_dtypes(include=['object']).columns:\n",
    "            jobs[column] = jobs[column].apply(clean_text)\n",
    "        # Verificamos si es la primera vez que se escribe en el archivo para incluir el encabezado\n",
    "        with open(\"jobs_SanFrancisco.csv\", mode='a', newline='', encoding='utf-8') as file:\n",
    "            jobs.to_csv(file, header=file.tell()==0, quoting=csv.QUOTE_ALL, escapechar='\\\\', index=False)"
   ]
  },
  {
   "cell_type": "code",
   "execution_count": 4,
   "metadata": {},
   "outputs": [
    {
     "name": "stderr",
     "output_type": "stream",
     "text": [
      "2024-06-14 11:30:07,975 - JobSpy - INFO - Indeed search page: 1\n"
     ]
    },
    {
     "name": "stdout",
     "output_type": "stream",
     "text": [
      "---- ICT sales professional ----\n"
     ]
    },
    {
     "name": "stderr",
     "output_type": "stream",
     "text": [
      "2024-06-14 11:30:08,497 - JobSpy - INFO - Indeed search page: 2\n",
      "2024-06-14 11:30:08,758 - JobSpy - INFO - Indeed found no jobs on page: 2\n",
      "2024-06-14 11:30:08,758 - JobSpy - INFO - Indeed finished scraping\n",
      "2024-06-14 11:30:08,812 - JobSpy - INFO - Indeed search page: 1\n"
     ]
    },
    {
     "name": "stdout",
     "output_type": "stream",
     "text": [
      "Found 4 jobs\n",
      "---- Marketing manager ----\n"
     ]
    },
    {
     "name": "stderr",
     "output_type": "stream",
     "text": [
      "2024-06-14 11:30:09,993 - JobSpy - INFO - Indeed finished scraping\n",
      "2024-06-14 11:30:10,309 - JobSpy - INFO - Indeed search page: 1\n"
     ]
    },
    {
     "name": "stdout",
     "output_type": "stream",
     "text": [
      "Found 100 jobs\n",
      "---- Product analyst ----\n"
     ]
    },
    {
     "name": "stderr",
     "output_type": "stream",
     "text": [
      "2024-06-14 11:30:11,280 - JobSpy - INFO - Indeed search page: 2\n",
      "2024-06-14 11:30:11,727 - JobSpy - INFO - Indeed found no jobs on page: 2\n",
      "2024-06-14 11:30:11,730 - JobSpy - INFO - Indeed finished scraping\n",
      "2024-06-14 11:30:11,927 - JobSpy - INFO - Indeed search page: 1\n"
     ]
    },
    {
     "name": "stdout",
     "output_type": "stream",
     "text": [
      "Found 79 jobs\n",
      "---- Product manager ----\n"
     ]
    },
    {
     "name": "stderr",
     "output_type": "stream",
     "text": [
      "2024-06-14 11:30:12,919 - JobSpy - INFO - Indeed finished scraping\n",
      "2024-06-14 11:30:13,245 - JobSpy - INFO - Indeed search page: 1\n"
     ]
    },
    {
     "name": "stdout",
     "output_type": "stream",
     "text": [
      "Found 100 jobs\n",
      "---- Product designer ----\n"
     ]
    },
    {
     "name": "stderr",
     "output_type": "stream",
     "text": [
      "2024-06-14 11:30:14,909 - JobSpy - INFO - Indeed finished scraping\n",
      "2024-06-14 11:30:15,138 - JobSpy - INFO - Indeed search page: 1\n"
     ]
    },
    {
     "name": "stdout",
     "output_type": "stream",
     "text": [
      "Found 100 jobs\n",
      "---- Business Intelligence professional ----\n"
     ]
    },
    {
     "name": "stderr",
     "output_type": "stream",
     "text": [
      "2024-06-14 11:30:16,496 - JobSpy - INFO - Indeed finished scraping\n",
      "2024-06-14 11:30:16,726 - JobSpy - INFO - Indeed search page: 1\n"
     ]
    },
    {
     "name": "stdout",
     "output_type": "stream",
     "text": [
      "Found 100 jobs\n",
      "---- Infraestructure engineer ----\n"
     ]
    },
    {
     "name": "stderr",
     "output_type": "stream",
     "text": [
      "2024-06-14 11:30:17,027 - JobSpy - INFO - Indeed found no jobs on page: 1\n",
      "2024-06-14 11:30:17,029 - JobSpy - INFO - Indeed finished scraping\n",
      "2024-06-14 11:30:17,048 - JobSpy - INFO - Indeed search page: 1\n"
     ]
    },
    {
     "name": "stdout",
     "output_type": "stream",
     "text": [
      "Found 0 jobs\n",
      "---- Computer Systems Analyst ----\n"
     ]
    },
    {
     "name": "stderr",
     "output_type": "stream",
     "text": [
      "2024-06-14 11:30:18,142 - JobSpy - INFO - Indeed finished scraping\n",
      "2024-06-14 11:30:18,351 - JobSpy - INFO - Indeed search page: 1\n"
     ]
    },
    {
     "name": "stdout",
     "output_type": "stream",
     "text": [
      "Found 100 jobs\n",
      "---- Software infrastructure architect ----\n"
     ]
    },
    {
     "name": "stderr",
     "output_type": "stream",
     "text": [
      "2024-06-14 11:30:19,645 - JobSpy - INFO - Indeed finished scraping\n",
      "2024-06-14 11:30:19,949 - JobSpy - INFO - Indeed search page: 1\n"
     ]
    },
    {
     "name": "stdout",
     "output_type": "stream",
     "text": [
      "Found 100 jobs\n",
      "---- Web developer ----\n"
     ]
    },
    {
     "name": "stderr",
     "output_type": "stream",
     "text": [
      "c:\\Users\\AbielBoga\\AppData\\Local\\Programs\\Python\\Python310\\lib\\site-packages\\markdownify\\__init__.py:96: MarkupResemblesLocatorWarning: The input looks more like a filename than markup. You may want to open this file and pass the filehandle into Beautiful Soup.\n",
      "  soup = BeautifulSoup(html, 'html.parser')\n",
      "2024-06-14 11:30:20,922 - JobSpy - INFO - Indeed finished scraping\n",
      "2024-06-14 11:30:21,192 - JobSpy - INFO - Indeed search page: 1\n"
     ]
    },
    {
     "name": "stdout",
     "output_type": "stream",
     "text": [
      "Found 100 jobs\n",
      "---- Software developer ----\n"
     ]
    },
    {
     "name": "stderr",
     "output_type": "stream",
     "text": [
      "2024-06-14 11:30:22,661 - JobSpy - INFO - Indeed finished scraping\n",
      "2024-06-14 11:30:22,939 - JobSpy - INFO - Indeed search page: 1\n"
     ]
    },
    {
     "name": "stdout",
     "output_type": "stream",
     "text": [
      "Found 100 jobs\n",
      "---- App developer ----\n"
     ]
    },
    {
     "name": "stderr",
     "output_type": "stream",
     "text": [
      "2024-06-14 11:30:24,071 - JobSpy - INFO - Indeed finished scraping\n",
      "2024-06-14 11:30:24,404 - JobSpy - INFO - Indeed search page: 1\n"
     ]
    },
    {
     "name": "stdout",
     "output_type": "stream",
     "text": [
      "Found 100 jobs\n",
      "---- User interface designer ----\n"
     ]
    },
    {
     "name": "stderr",
     "output_type": "stream",
     "text": [
      "2024-06-14 11:30:25,390 - JobSpy - INFO - Indeed finished scraping\n",
      "2024-06-14 11:30:25,722 - JobSpy - INFO - Indeed search page: 1\n"
     ]
    },
    {
     "name": "stdout",
     "output_type": "stream",
     "text": [
      "Found 100 jobs\n",
      "---- Software engineer ----\n"
     ]
    },
    {
     "name": "stderr",
     "output_type": "stream",
     "text": [
      "2024-06-14 11:30:26,769 - JobSpy - INFO - Indeed finished scraping\n",
      "2024-06-14 11:30:27,076 - JobSpy - INFO - Indeed search page: 1\n"
     ]
    },
    {
     "name": "stdout",
     "output_type": "stream",
     "text": [
      "Found 100 jobs\n",
      "---- Software architect ----\n"
     ]
    },
    {
     "name": "stderr",
     "output_type": "stream",
     "text": [
      "2024-06-14 11:30:28,369 - JobSpy - INFO - Indeed finished scraping\n",
      "2024-06-14 11:30:28,705 - JobSpy - INFO - Indeed search page: 1\n"
     ]
    },
    {
     "name": "stdout",
     "output_type": "stream",
     "text": [
      "Found 100 jobs\n",
      "---- Software Quality Assurance Analysts and Testers ----\n"
     ]
    },
    {
     "name": "stderr",
     "output_type": "stream",
     "text": [
      "2024-06-14 11:30:29,035 - JobSpy - INFO - Indeed search page: 2\n",
      "2024-06-14 11:30:29,232 - JobSpy - INFO - Indeed found no jobs on page: 2\n",
      "2024-06-14 11:30:29,233 - JobSpy - INFO - Indeed finished scraping\n",
      "2024-06-14 11:30:29,258 - JobSpy - INFO - Indeed search page: 1\n"
     ]
    },
    {
     "name": "stdout",
     "output_type": "stream",
     "text": [
      "Found 3 jobs\n",
      "---- Embedded systems engineer ----\n"
     ]
    },
    {
     "name": "stderr",
     "output_type": "stream",
     "text": [
      "2024-06-14 11:30:30,370 - JobSpy - INFO - Indeed finished scraping\n",
      "2024-06-14 11:30:30,758 - JobSpy - INFO - Indeed search page: 1\n"
     ]
    },
    {
     "name": "stdout",
     "output_type": "stream",
     "text": [
      "Found 100 jobs\n",
      "---- Web and Digital Interface Designers ----\n"
     ]
    },
    {
     "name": "stderr",
     "output_type": "stream",
     "text": [
      "2024-06-14 11:30:31,521 - JobSpy - INFO - Indeed search page: 2\n",
      "2024-06-14 11:30:32,143 - JobSpy - INFO - Indeed found no jobs on page: 2\n",
      "2024-06-14 11:30:32,144 - JobSpy - INFO - Indeed finished scraping\n",
      "2024-06-14 11:30:32,424 - JobSpy - INFO - Indeed search page: 1\n"
     ]
    },
    {
     "name": "stdout",
     "output_type": "stream",
     "text": [
      "Found 47 jobs\n",
      "---- Database infrastructure engineer ----\n"
     ]
    },
    {
     "name": "stderr",
     "output_type": "stream",
     "text": [
      "2024-06-14 11:30:33,661 - JobSpy - INFO - Indeed finished scraping\n",
      "2024-06-14 11:30:33,924 - JobSpy - INFO - Indeed search page: 1\n"
     ]
    },
    {
     "name": "stdout",
     "output_type": "stream",
     "text": [
      "Found 100 jobs\n",
      "---- Network architect ----\n"
     ]
    },
    {
     "name": "stderr",
     "output_type": "stream",
     "text": [
      "2024-06-14 11:30:35,320 - JobSpy - INFO - Indeed finished scraping\n",
      "2024-06-14 11:30:35,652 - JobSpy - INFO - Indeed search page: 1\n"
     ]
    },
    {
     "name": "stdout",
     "output_type": "stream",
     "text": [
      "Found 100 jobs\n",
      "---- Database Administrators ----\n"
     ]
    },
    {
     "name": "stderr",
     "output_type": "stream",
     "text": [
      "2024-06-14 11:30:36,204 - JobSpy - INFO - Indeed search page: 2\n",
      "2024-06-14 11:30:36,605 - JobSpy - INFO - Indeed found no jobs on page: 2\n",
      "2024-06-14 11:30:36,607 - JobSpy - INFO - Indeed finished scraping\n",
      "2024-06-14 11:30:36,728 - JobSpy - INFO - Indeed search page: 1\n"
     ]
    },
    {
     "name": "stdout",
     "output_type": "stream",
     "text": [
      "Found 32 jobs\n",
      "---- Database Architects ----\n"
     ]
    },
    {
     "name": "stderr",
     "output_type": "stream",
     "text": [
      "2024-06-14 11:30:38,271 - JobSpy - INFO - Indeed finished scraping\n",
      "2024-06-14 11:30:38,556 - JobSpy - INFO - Indeed search page: 1\n"
     ]
    },
    {
     "name": "stdout",
     "output_type": "stream",
     "text": [
      "Found 100 jobs\n",
      "---- Network and Computer Systems Administrator ----\n"
     ]
    },
    {
     "name": "stderr",
     "output_type": "stream",
     "text": [
      "2024-06-14 11:30:39,806 - JobSpy - INFO - Indeed finished scraping\n",
      "2024-06-14 11:30:40,095 - JobSpy - INFO - Indeed search page: 1\n"
     ]
    },
    {
     "name": "stdout",
     "output_type": "stream",
     "text": [
      "Found 100 jobs\n",
      "---- Artificial intelligence engineer ----\n"
     ]
    },
    {
     "name": "stderr",
     "output_type": "stream",
     "text": [
      "2024-06-14 11:30:41,271 - JobSpy - INFO - Indeed finished scraping\n",
      "2024-06-14 11:30:41,529 - JobSpy - INFO - Indeed search page: 1\n"
     ]
    },
    {
     "name": "stdout",
     "output_type": "stream",
     "text": [
      "Found 100 jobs\n",
      "---- Machine Learning engineer ----\n"
     ]
    },
    {
     "name": "stderr",
     "output_type": "stream",
     "text": [
      "2024-06-14 11:30:42,530 - JobSpy - INFO - Indeed finished scraping\n",
      "2024-06-14 11:30:42,889 - JobSpy - INFO - Indeed search page: 1\n"
     ]
    },
    {
     "name": "stdout",
     "output_type": "stream",
     "text": [
      "Found 100 jobs\n",
      "---- Data science engineer ----\n"
     ]
    },
    {
     "name": "stderr",
     "output_type": "stream",
     "text": [
      "2024-06-14 11:30:43,856 - JobSpy - INFO - Indeed finished scraping\n",
      "2024-06-14 11:30:44,159 - JobSpy - INFO - Indeed search page: 1\n"
     ]
    },
    {
     "name": "stdout",
     "output_type": "stream",
     "text": [
      "Found 100 jobs\n",
      "---- Data analyst ----\n"
     ]
    },
    {
     "name": "stderr",
     "output_type": "stream",
     "text": [
      "2024-06-14 11:30:45,396 - JobSpy - INFO - Indeed finished scraping\n",
      "2024-06-14 11:30:45,708 - JobSpy - INFO - Indeed search page: 1\n"
     ]
    },
    {
     "name": "stdout",
     "output_type": "stream",
     "text": [
      "Found 100 jobs\n",
      "---- Data scientist ----\n"
     ]
    },
    {
     "name": "stderr",
     "output_type": "stream",
     "text": [
      "2024-06-14 11:30:46,999 - JobSpy - INFO - Indeed finished scraping\n",
      "2024-06-14 11:30:47,367 - JobSpy - INFO - Indeed search page: 1\n"
     ]
    },
    {
     "name": "stdout",
     "output_type": "stream",
     "text": [
      "Found 100 jobs\n",
      "---- Artificial Intelligence scientist ----\n"
     ]
    },
    {
     "name": "stderr",
     "output_type": "stream",
     "text": [
      "2024-06-14 11:30:48,609 - JobSpy - INFO - Indeed finished scraping\n",
      "2024-06-14 11:30:48,964 - JobSpy - INFO - Indeed search page: 1\n"
     ]
    },
    {
     "name": "stdout",
     "output_type": "stream",
     "text": [
      "Found 100 jobs\n",
      "---- Data architect ----\n"
     ]
    },
    {
     "name": "stderr",
     "output_type": "stream",
     "text": [
      "2024-06-14 11:30:50,324 - JobSpy - INFO - Indeed finished scraping\n",
      "2024-06-14 11:30:50,945 - JobSpy - INFO - Indeed search page: 1\n"
     ]
    },
    {
     "name": "stdout",
     "output_type": "stream",
     "text": [
      "Found 100 jobs\n",
      "---- ICT security specialist ----\n"
     ]
    },
    {
     "name": "stderr",
     "output_type": "stream",
     "text": [
      "2024-06-14 11:30:51,362 - JobSpy - INFO - Indeed search page: 2\n",
      "2024-06-14 11:30:51,593 - JobSpy - INFO - Indeed found no jobs on page: 2\n",
      "2024-06-14 11:30:51,594 - JobSpy - INFO - Indeed finished scraping\n",
      "2024-06-14 11:30:51,637 - JobSpy - INFO - Indeed search page: 1\n"
     ]
    },
    {
     "name": "stdout",
     "output_type": "stream",
     "text": [
      "Found 3 jobs\n",
      "---- IT security operations ----\n"
     ]
    },
    {
     "name": "stderr",
     "output_type": "stream",
     "text": [
      "2024-06-14 11:30:53,652 - JobSpy - INFO - Indeed finished scraping\n",
      "2024-06-14 11:30:53,950 - JobSpy - INFO - Indeed search page: 1\n"
     ]
    },
    {
     "name": "stdout",
     "output_type": "stream",
     "text": [
      "Found 100 jobs\n",
      "---- Information Security Analysts ----\n"
     ]
    },
    {
     "name": "stderr",
     "output_type": "stream",
     "text": [
      "2024-06-14 11:30:55,434 - JobSpy - INFO - Indeed finished scraping\n",
      "2024-06-14 11:30:55,767 - JobSpy - INFO - Indeed search page: 1\n"
     ]
    },
    {
     "name": "stdout",
     "output_type": "stream",
     "text": [
      "Found 100 jobs\n",
      "---- Product Security and IT Security Integration Specialist ----\n"
     ]
    },
    {
     "name": "stderr",
     "output_type": "stream",
     "text": [
      "2024-06-14 11:30:56,425 - JobSpy - INFO - Indeed search page: 2\n",
      "2024-06-14 11:30:56,839 - JobSpy - INFO - Indeed found no jobs on page: 2\n",
      "2024-06-14 11:30:56,840 - JobSpy - INFO - Indeed finished scraping\n",
      "2024-06-14 11:30:56,947 - JobSpy - INFO - Indeed search page: 1\n"
     ]
    },
    {
     "name": "stdout",
     "output_type": "stream",
     "text": [
      "Found 42 jobs\n",
      "---- Product risk specialist ----\n"
     ]
    },
    {
     "name": "stderr",
     "output_type": "stream",
     "text": [
      "2024-06-14 11:30:58,111 - JobSpy - INFO - Indeed finished scraping\n",
      "2024-06-14 11:30:58,401 - JobSpy - INFO - Indeed search page: 1\n"
     ]
    },
    {
     "name": "stdout",
     "output_type": "stream",
     "text": [
      "Found 100 jobs\n",
      "---- Security architect ----\n"
     ]
    },
    {
     "name": "stderr",
     "output_type": "stream",
     "text": [
      "2024-06-14 11:30:59,529 - JobSpy - INFO - Indeed finished scraping\n",
      "2024-06-14 11:30:59,847 - JobSpy - INFO - Indeed search page: 1\n"
     ]
    },
    {
     "name": "stdout",
     "output_type": "stream",
     "text": [
      "Found 100 jobs\n",
      "---- Database support engineer ----\n"
     ]
    },
    {
     "name": "stderr",
     "output_type": "stream",
     "text": [
      "2024-06-14 11:31:01,588 - JobSpy - INFO - Indeed finished scraping\n",
      "2024-06-14 11:31:01,930 - JobSpy - INFO - Indeed search page: 1\n"
     ]
    },
    {
     "name": "stdout",
     "output_type": "stream",
     "text": [
      "Found 100 jobs\n",
      "---- Data center operations engineer ----\n"
     ]
    },
    {
     "name": "stderr",
     "output_type": "stream",
     "text": [
      "2024-06-14 11:31:03,480 - JobSpy - INFO - Indeed finished scraping\n",
      "2024-06-14 11:31:03,738 - JobSpy - INFO - Indeed search page: 1\n"
     ]
    },
    {
     "name": "stdout",
     "output_type": "stream",
     "text": [
      "Found 100 jobs\n",
      "---- Support systems engineer ----\n"
     ]
    },
    {
     "name": "stderr",
     "output_type": "stream",
     "text": [
      "2024-06-14 11:31:04,978 - JobSpy - INFO - Indeed finished scraping\n",
      "2024-06-14 11:31:05,243 - JobSpy - INFO - Indeed search page: 1\n"
     ]
    },
    {
     "name": "stdout",
     "output_type": "stream",
     "text": [
      "Found 100 jobs\n",
      "---- Computer Network Support Specialists ----\n"
     ]
    },
    {
     "name": "stderr",
     "output_type": "stream",
     "text": [
      "2024-06-14 11:31:06,564 - JobSpy - INFO - Indeed finished scraping\n"
     ]
    },
    {
     "name": "stdout",
     "output_type": "stream",
     "text": [
      "Found 100 jobs\n"
     ]
    }
   ],
   "source": [
    "for occ in occupations_list:\n",
    "    print(f\"---- {occ} ----\")\n",
    "    scrapp(occ)"
   ]
  },
  {
   "cell_type": "code",
   "execution_count": null,
   "metadata": {},
   "outputs": [],
   "source": [
    "print(f\"Found {len(jobs)} jobs\")\n",
    "print(jobs.head())\n",
    "jobs.to_csv(\"jobs.csv\", quoting=csv.QUOTE_NONNUMERIC, escapechar=\"\\\\\", index=False) # to_excel"
   ]
  }
 ],
 "metadata": {
  "kernelspec": {
   "display_name": "Python 3",
   "language": "python",
   "name": "python3"
  },
  "language_info": {
   "codemirror_mode": {
    "name": "ipython",
    "version": 3
   },
   "file_extension": ".py",
   "mimetype": "text/x-python",
   "name": "python",
   "nbconvert_exporter": "python",
   "pygments_lexer": "ipython3",
   "version": "3.10.0"
  }
 },
 "nbformat": 4,
 "nbformat_minor": 2
}
